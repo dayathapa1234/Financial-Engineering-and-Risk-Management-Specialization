{
 "cells": [
  {
   "cell_type": "markdown",
   "id": "8ca86202",
   "metadata": {},
   "source": [
    "# Learning Resources\n",
    "\n",
    "https://ocw.mit.edu/courses/18-s096-topics-in-mathematics-with-applications-in-finance-fall-2013/video_galleries/video-lectures/\n",
    "\n",
    "https://dlsun.github.io/probability/index.html\n",
    " \n",
    "\n",
    "https://ocw.mit.edu/courses/sloan-school-of-management/15-093j-optimization-methods-fall-2009/\n"
   ]
  },
  {
   "cell_type": "markdown",
   "id": "bd84e8bf",
   "metadata": {},
   "source": [
    "# Question One\n",
    "#### Suppose you toss a fair coin 10 times, and random variable $X$ is the number of heads in total.  What's the mathematical expectation of $X$?\n",
    "#### Random variable $X$ follows binomial distribution with $n=10$ and $p=\\frac{1}{2}$. So we have $\\mathbb{E}[X]=np=5$.\n",
    "\n"
   ]
  },
  {
   "cell_type": "markdown",
   "id": "af8a177a",
   "metadata": {},
   "source": [
    "# Question Two\n",
    "#### Continued with question 1. What is the variance of $X$?\n",
    "\n",
    "#### $Var(X) = np(1 - p) = 10\\times\\frac{1}{2}\\times(1 - \\frac{1}{2}) = 2.5$."
   ]
  },
  {
   "cell_type": "markdown",
   "id": "3eedc68e",
   "metadata": {},
   "source": [
    "# Question Three\n",
    "#### Suppose you tossed two fare 6-face dice, and you get $Y_1$ and $Y_2$. Let $X = Y_1 + Y_2$. Find the conditional probablity $\\mathbb{P} [Y_2 \\ge 4 | X \\le 7]$. Round your answer to 3 decimal places.\n",
    "#### For $X \\le 7$, there are $6 + 5 + 4 + 3 + 2 + 1 = 21$ cases in total: $(Y_1, Y_2) = (1,1...6),(2,1...5),(3,1...4),(4,1...3),(5,1...2),(6,1)$. And there are 6 cases satisfies $Y_2 \\ge 4$: $(Y_1, Y_2) = (1,4..6),(2,4..5),(3,4)$, so the conditional probability is $\\mathbb{P}[Y_2 \\ge 4 | X \\le 7] = \\frac{6}{21} = \\frac{2}{7} \\approx 0.286$."
   ]
  },
  {
   "cell_type": "code",
   "execution_count": null,
   "id": "c1be1fc1",
   "metadata": {},
   "outputs": [],
   "source": []
  }
 ],
 "metadata": {
  "kernelspec": {
   "display_name": "Python 3 (ipykernel)",
   "language": "python",
   "name": "python3"
  },
  "language_info": {
   "codemirror_mode": {
    "name": "ipython",
    "version": 3
   },
   "file_extension": ".py",
   "mimetype": "text/x-python",
   "name": "python",
   "nbconvert_exporter": "python",
   "pygments_lexer": "ipython3",
   "version": "3.9.7"
  }
 },
 "nbformat": 4,
 "nbformat_minor": 5
}
