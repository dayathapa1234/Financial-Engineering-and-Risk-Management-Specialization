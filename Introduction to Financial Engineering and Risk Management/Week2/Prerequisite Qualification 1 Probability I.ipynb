{
 "cells": [
  {
   "cell_type": "markdown",
   "id": "8ca86202",
   "metadata": {},
   "source": [
    "# Learning Resources\n",
    "\n",
    "https://ocw.mit.edu/courses/18-s096-topics-in-mathematics-with-applications-in-finance-fall-2013/video_galleries/video-lectures/\n",
    "\n",
    "https://dlsun.github.io/probability/index.html\n",
    " \n",
    "\n",
    "https://ocw.mit.edu/courses/sloan-school-of-management/15-093j-optimization-methods-fall-2009/\n"
   ]
  },
  {
   "cell_type": "markdown",
   "id": "bd84e8bf",
   "metadata": {},
   "source": [
    "# Question One\n",
    "#### Suppose you toss a fair coin 10 times, and random variable $X$ is the number of heads in total.  What's the mathematical expectation of $X$?\n",
    "#### Random variable $X$ follows binomial distribution with $n=10$ and $p=\\frac{1}{2}$. So we have $\\mathbb{E}[X]=np=5$.\n",
    "\n"
   ]
  },
  {
   "cell_type": "markdown",
   "id": "af8a177a",
   "metadata": {},
   "source": [
    "# Question Two\n",
    "#### Continued with question 1. What is the variance of $X$?\n",
    "\n",
    "#### $Var(X) = np(1 - p) = 10\\times\\frac{1}{2}\\times(1 - \\frac{1}{2}) = 2.5$."
   ]
  },
  {
   "cell_type": "markdown",
   "id": "3eedc68e",
   "metadata": {},
   "source": [
    "# Question Three\n",
    "#### Suppose you tossed two fare 6-face dice, and you get $Y_1$ and $Y_2$. Let $X = Y_1 + Y_2$. Find the conditional probablity $\\mathbb{P} [Y_2 \\ge 4 | X \\le 7]$. Round your answer to 3 decimal places.\n",
    "#### For $X \\le 7$, there are $6 + 5 + 4 + 3 + 2 + 1 = 21$ cases in total: $(Y_1, Y_2) = (1,1...6),(2,1...5),(3,1...4),(4,1...3),(5,1...2),(6,1)$. And there are 6 cases satisfies $Y_2 \\ge 4$: $(Y_1, Y_2) = (1,4..6),(2,4..5),(3,4)$, so the conditional probability is $\\mathbb{P}[Y_2 \\ge 4 | X \\le 7] = \\frac{6}{21} = \\frac{2}{7} \\approx 0.286$."
   ]
  },
  {
   "cell_type": "markdown",
   "id": "95f3a4df",
   "metadata": {},
   "source": [
    "# Question Four\n",
    "#### Suppose continuous random variable $X$ follows exponential distribution with parameter $λ=1$, i.e., $X∼e^1$. Which is the correct answer for conditional probability $\\mathbb{P}[X \\ge 3 ∣ X \\ge 1]$?\n",
    "\n",
    "#### Apply Bayes' Theorem, we have $\\mathbb{P}[X \\ge 3 ∣ X \\ge 1 ] = \\frac {\\mathbb{P}[X≥3,X≥1]}{\\mathbb{P}[X≥1]} \\frac{\\mathbb{P}[X≥3]}{\\mathbb{P}[X≥1]}$. CDF for exponential distribution is $ \\mathbb{P}[X≤x]=1−e^{−λx}$. So $\\mathbb{P}[X≥3]=e^{−3}$ and $\\mathbb{P}[X≥1]=e^{−1}$, then we have $\\mathbb{P}[X≥3∣X≥1]=\\frac{e^{−3}}{e^{−1}}=e^−2$.\n",
    "\n",
    "#### Actually the answer is equivalent with $\\mathbb{P}[X≥2]=e^{−2}$ because of the memorylessness property of exponential distribution."
   ]
  },
  {
   "cell_type": "markdown",
   "id": "9be86a53",
   "metadata": {},
   "source": [
    "## Question Five\n",
    "\n",
    "#### Suppose continuous random variable $X$ follows a normal distribution with mean 2 and variance 4, i.e. $X∼N(2,4)$. What is the mathematical expectation of $e^X$? Round your answer to 1 decimal.\n",
    "\n",
    "#### Think about why this is larger or smaller than $e^{\\mathbb{E}[X]}$.\n",
    "\n",
    "\n",
    "#### https://math.stackexchange.com/questions/176196/calculate-the-expected-value-of-y-ex-where-x-sim-n-mu-sigma2\n",
    "\n",
    "#### $\\mathbb{E}[e^X] = e^{\\mathbb{E}[X] + \\frac{Var(X)}{2}} = e^{2 + \\frac{4}{2}} = e^4 = 54.6$\n",
    "\n",
    "#### This is larger than $e^{\\mathbb{E}[X]} = e^2$ Hint: Jenson's inequality."
   ]
  },
  {
   "cell_type": "markdown",
   "id": "e5b1ea03",
   "metadata": {},
   "source": [
    "## Question Six\n",
    "\n",
    "#### Suppose $X$ is a continuous random variable with mean 1 and variance 4, $Y$ is a standard normal random variable, that is $Y∼N(0,1)$. Assume $X$ and $Y$ are independent. What is the mathematical expectation of $Xe^Y$? Round your answer to 2 decimal places.\n",
    "\n",
    "#### Apply conditional expectation identity (tower property), we have $\\mathbb{E}[Xe^Y]= \\mathbb{E}[\\mathbb{E}[Xe^Y∣X]]=\\mathbb{E}[X\\mathbb{E}[e^Y∣X]]=\\mathbb{E}[X\\mathbb{E}[e^Y]]$. The last equality part is because $X,Y$ are independent. We know that $\\mathbb{E}[e^Y]=e^{0+\\frac{1}{2}}=e^{0.5}$, so $\\mathbb{E}[Xe^Y]=\\mathbb{E}[e^{0.5}X]=e^{0.5}=1.65$."
   ]
  },
  {
   "cell_type": "markdown",
   "id": "a09dde29",
   "metadata": {},
   "source": [
    "## Question Six\n",
    "\n",
    "#### Continued with question 6. What is the variance of $Xe^Y$? Round your answer to 2 decimal places.\n",
    "\n",
    "#### Apply conditional variance identity: $Var(Xe^Y)=Var(\\mathbb{E}[Xe^Y∣X])+\\mathbb{E}[Var(Xe^Y∣X)]$. From question 6, we know $\\mathbb{E}[Xe^Y∣X]=Xe^{0.5}$, so $Var(V\\mathbb{E}[Xe^Y∣X])=(e^{0.5})^2Var(X) = 4e$. Following the same logic in question 6, we have $Var(Xe^Y∣X)= X^2Var(e^Y∣X)=X^2Var(e^Y)=X^2e^{2 \\times 0+1}(e^1−1)=X^2e(e−1)$, so $\\mathbb{E}[Var(Xe^Y∣X)]=e(e−1)\\mathbb{E}[X^2]=5e(e−1)$. Therefore we have $Var(Xe^Y)=4e+5e^2−5e=5e^2−e=34.23$."
   ]
  },
  {
   "cell_type": "code",
   "execution_count": null,
   "id": "25a1868a",
   "metadata": {},
   "outputs": [],
   "source": []
  }
 ],
 "metadata": {
  "kernelspec": {
   "display_name": "Python 3 (ipykernel)",
   "language": "python",
   "name": "python3"
  },
  "language_info": {
   "codemirror_mode": {
    "name": "ipython",
    "version": 3
   },
   "file_extension": ".py",
   "mimetype": "text/x-python",
   "name": "python",
   "nbconvert_exporter": "python",
   "pygments_lexer": "ipython3",
   "version": "3.9.7"
  }
 },
 "nbformat": 4,
 "nbformat_minor": 5
}
